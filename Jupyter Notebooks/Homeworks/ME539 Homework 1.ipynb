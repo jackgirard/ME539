{
 "cells": [
  {
   "cell_type": "markdown",
   "metadata": {},
   "source": [
    "# Homework 1\n",
    "\n",
    "## References\n",
    "\n",
    "+ Lectures 1-3 (inclusive).\n",
    "\n",
    "## Instructions\n",
    "\n",
    "+ Type your name and email in the \"Student details\" section below.\n",
    "+ Develop the code and generate the figures you need to solve the problems using this notebook.\n",
    "+ For the answers that require a mathematical proof or derivation you should type them using latex. If you have never written latex before and you find it exceedingly difficult, we will likely accept handwritten solutions.\n",
    "+ The total homework points are 100. Please note that the problems are not weighed equally."
   ]
  },
  {
   "cell_type": "code",
   "execution_count": 1,
   "metadata": {
    "tags": [
     "hide-input"
    ]
   },
   "outputs": [],
   "source": [
    "import numpy as np\n",
    "import matplotlib.pyplot as plt\n",
    "%matplotlib inline\n",
    "import seaborn as sns\n",
    "sns.set(rc={\"figure.dpi\":100, \"savefig.dpi\":300})\n",
    "sns.set_context(\"notebook\")\n",
    "sns.set_style(\"ticks\")\n",
    "\n",
    "from matplotlib import rc\n",
    "rc('text', usetex=True)"
   ]
  },
  {
   "cell_type": "markdown",
   "metadata": {},
   "source": [
    "## Student details\n",
    "\n",
    "+ **First Name:** Jack\n",
    "+ **Last Name:** Girard\n",
    "+ **Email:** girard2@purdue.edu"
   ]
  },
  {
   "cell_type": "markdown",
   "metadata": {},
   "source": [
    "## Problem 1\n",
    "\n",
    "Disclaimer: This example is a modified version of the one found in a 2013 lecture on Bayesian Scientific Computing taught by Prof. Nicholas Zabaras.\n",
    "I am not sure where the original problem is coming from.\n",
    "\n",
    "We are tasked with assessing the usefulness of a tuberculosis test.\n",
    "The prior information I is:\n",
    "\n",
    "> The percentage of the population infected by tuberculosis is 0.4\\%.\n",
    "We have run several experiments and determined that:\n",
    "+ If a tested patient has the disease, then 80\\% of the time the test comes out positive.\n",
    "+ If a tested patient does not have the disease, then 90\\% of the time the test comes out negative.\n",
    "\n",
    "To facilitate your analysis, consider the following logical sentences concerning a patient:\n",
    "\n",
    "> A: The patient is tested and the test is positive.\n",
    "\n",
    "> B: The patient has tuberculosis.\n",
    "\n",
    "<h4>Student note on notation:</h4> The below notation substitutions will be made:\n",
    "\n",
    "+ 'not' or complement: $\\neg A \\equiv \\overline{A}$\n",
    "+ 'and' or intersection: $A,B \\equiv AB \\equiv A \\cap B$\n",
    "+ 'or' or union: $A + B \\equiv A \\cup B$\n",
    "\n",
    "<h4>Student note on the sample space:</h4>\n",
    "The sample space $I$ (or commonly specified as $\\Omega$) will be excluded from most steps below. It is assumed that the sample space exists in order to take a probability measure.\n",
    "\n",
    "A. Find the probability that the patient has tuberculosis (before looking at the result of the test), i.e., $p(B|I)$. This is known as the base rate or the prior probability.<br>\n",
    "**Answer:**\n",
    "<br>\n",
    "Based on the given information: <br>\n",
    "$$\n",
    "p(B|I) = p(B) = 0.4\\% = 0.004\n",
    "$$"
   ]
  },
  {
   "cell_type": "markdown",
   "metadata": {},
   "source": [
    "B. Find the probability that the test is positive given that the patient has tuberculosis, i.e., $p(A|B,I)$.<br>\n",
    "**Answer:**\n",
    "<br>\n",
    "Based on the given information: <br>\n",
    "$$\n",
    "p(A|B,I) = p(A|B) = 80\\% = 0.8\n",
    "$$"
   ]
  },
  {
   "cell_type": "markdown",
   "metadata": {},
   "source": [
    "C. Find the probability that the test is positive given that the patient does not have tuberculosis, i.e., $p(A|\\neg B, I)$.<br>\n",
    "**Answer:**\n",
    "$$\n",
    "p(A|\\neg B, I) = p(A|\\overline{B})\n",
    "$$\n",
    "Based on given information:\n",
    "\n",
    "$$\n",
    "p(\\overline{A}|\\overline{B}, I) = 90\\% = 0.9\n",
    "$$\n",
    "\n",
    "Using the obvious rule:\n",
    "\n",
    "$$\n",
    "p(A|\\overline{B}) + p(\\overline{A}|\\overline{B}) = 1\n",
    "$$\n",
    "\n",
    "$$\n",
    "p(A|\\overline{B}) = 1 - p(\\overline{A}|\\overline{B}) = 1 - 0.9 = 0.1\n",
    "$$"
   ]
  },
  {
   "cell_type": "markdown",
   "metadata": {},
   "source": [
    "D. Find the probability that a patient that tested positive has tuberculosis, i.e., $p(B|A,I)$.<br>\n",
    "**Answer:**\n",
    "\n",
    "Using Bayes' Theorem:\n",
    "\n",
    "$$\n",
    "p(B|A, I) = \\frac{p(A|B, I)p(B|I)}{p(A|I)} = \\frac{p(A|B)p(B)}{p(A)} = p(B|A)\n",
    "$$\n",
    "<br>\n",
    "Solving for $p(A)$ first using the Law of Total Probability and the product rule:\n",
    "\n",
    "$$\n",
    "p(A) = p(A \\cap I) = p(A \\cap (B \\cup \\overline{B}))\n",
    "$$\n",
    "\n",
    "$$\n",
    " = p((A \\cap B) \\cup (A \\cap \\overline{B}))\n",
    "$$\n",
    "\n",
    "$$\n",
    " = p(A \\cap B) + p(A \\cap \\overline{B})\n",
    "$$\n",
    "\n",
    "$$\n",
    " = p(A|B)p(B) + p(A|\\overline{B})p(\\overline{B})\n",
    "$$\n",
    "\n",
    "$$\n",
    " = (0.8)(0.004) + (0.1)(0.996) = 0.1028\n",
    "$$\n",
    "\n",
    "Solving for $p(B|A)$:\n",
    "\n",
    "$$\n",
    "p(B|A) = \\frac{p(A|B)p(B)}{p(A)}\n",
    "$$\n",
    "\n",
    "$$\n",
    " = \\frac{(0.8)(0.004)}{0.1028} = 0.031128 \\approx 3.1\\%\n",
    "$$"
   ]
  },
  {
   "cell_type": "markdown",
   "metadata": {},
   "source": [
    "E. Find the probability that a patient that tested negative has tuberculosis, i.e., $p(B|\\neg A, I)$. Does the test change our prior state of knowledge about about the patient? Is the test useful?<br>\n",
    "**Answer:**\n",
    "\n",
    "Using Bayes' Theorem:\n",
    "$$\n",
    "p(B|\\neg A, I) = \\frac{p(\\neg A|B, I)p(B|I)}{p(\\neg A|I)} = \\frac{p(\\overline{A}|B)p(B)}{p(\\overline{A})} = p(B|\\overline{A})\n",
    "$$\n",
    "\n",
    "Using the obvious rule:\n",
    "\n",
    "$$\n",
    " = \\frac{(1 - p(A|B))p(B)}{1 - p(A)}\n",
    "$$\n",
    "\n",
    "$$\n",
    " = \\frac{(1 - 0.8)(0.004)}{1 - 0.1028}\n",
    "$$\n",
    "\n",
    "$$\n",
    " = 0.000891663 \\approx 0.09\\%\n",
    "$$\n",
    "\n",
    "The test does change our prior state of knowledge about the patient. Without a test, the probability of a patient having tuberculosis is, as stated above, 0.4%. Given that a patient tests negative for tuberculosis, the probability of them having tuberculosis decreases to approximately 0.09%. In addition, from part D, given that a patient tests positive for tuberculosis, the probability of them having tuberculosis increases to approximately 3.1%. The test is useful, because no matter the test result (positive or negative) the prior state of knowledge about the patient is changed (and we inherently know more about the patient's statistics about having tuberculosis): $p(B|A) > p(B)$; $p(B|\\overline{A}) < p(B)$"
   ]
  },
  {
   "cell_type": "markdown",
   "metadata": {},
   "source": [
    "F. What would a good test look like? Find values for \n",
    "\n",
    "$$\n",
    "p(A|B,I)= p(\\text{test is positive} |\\text{has tuberculosis},I),\n",
    "$$\n",
    "\n",
    "and\n",
    "\n",
    "$$\n",
    "p(A| \\neg B, I) = p(\\text{test is positive}|\\text{does not have tuberculosis}, I),\n",
    "$$\n",
    "\n",
    "so that\n",
    "\n",
    "$$\n",
    "p(B|A, I) = p(\\text{has tuberculosis}|\\text{test is positive}, I) = 0.99.\n",
    "$$\n",
    "\n",
    "There are more than one solutions. How would you pick a good one? Thinking in this way can help you set goals if you work in R\\&D. If you have time, try to figure out whether or not there exists such an accurate test for tuberculosis<br>\n",
    "**Answer:**\n",
    "$$\n",
    "p(A|B,I) = p(A|B); p(A| \\neg B, I) = p(A|\\overline{B}); p(B|A, I) = p(B|A)\n",
    "$$\n",
    "\n",
    "Using Bayes' Theorem and Law of Total Probability:\n",
    "\n",
    "$$\n",
    "p(B|A, I) = \\frac{p(A|B, I)p(B|I)}{p(A|I)} = \\frac{p(A|B)p(B)}{p(A)} = p(B|A) = 0.99\n",
    "$$\n",
    "\n",
    "$$\n",
    " = \\frac{p(A|B)p(B)}{p(A|B)p(B) + p(A|\\overline{B})p(\\overline{B})}\n",
    "$$\n",
    "\n",
    "Substitute $x$ and $y$ for variables $p(A|B)$ and $p(A|\\overline{B})$, respectively:\n",
    "\n",
    "$$\n",
    " = \\frac{xp(B)}{xp(B) + yp(\\overline{B})} = \\frac{0.004x}{0.004x + 0.996y} = 0.99\n",
    "$$\n",
    "\n",
    "$$\n",
    "0.99(0.004x + 0.996y) = 0.004x\n",
    "$$\n",
    "\n",
    "$$\n",
    "0.00396x + 0.98604y = 0.004x\n",
    "$$\n",
    "\n",
    "$$\n",
    "0.98604y = 0.00004x\n",
    "$$\n",
    "\n",
    "Using slope-intercept form $y = mx + b$ to generate equation for the line:\n",
    "\n",
    "$$\n",
    "y = 0.000040566x\n",
    "$$\n",
    "\n",
    "A line of solutions exist for $p(A|B)$ contained in $[0, 1]$ (where $p(A|B)$ reaches maximum probability of 1 first). The solutions are plotted and can be visualized in the cell below. Intuitively, a quality tuberculosis test could mean that if the patient has tuberculosis then the probability of a positive test $p(A|B)$ would be close to 1. As a result, if the patient does not have tuberculosis, then the probability of a positive test $p(A|\\overline{B})$ would be approximately $4 \\times 10^{-5}$ to satisfy the $p(B|A) = 0.99$ condition.\n",
    "\n",
    "After some preliminary research, it appears that the sensitivity of tuberculosis tests, $p(A|B)$, can range from 25% to nearly 100% depending on symptom type, symptom duration, and patient age [1, 2]. One case study reported 62.5% sensitivity in children 25-36 months old and 100% sensitivity in children older than 49 months [1]. Another case study reported sensitivity ranges of 25%-50% for patients with prolonged cough and 77%-84% for any sympton of any duration [2]. Based on these published research results, a 'good' test may be realistically described as one with a $p(A|B)$ value of approximately 0.7-0.9.\n",
    "\n",
    "Sources:\n",
    "\n",
    "[1] https://www.ncbi.nlm.nih.gov/pmc/articles/PMC4595419/\n",
    "\n",
    "[2] https://www.ncbi.nlm.nih.gov/pmc/articles/PMC6782021/\n",
    "\n",
    "[3] https://en.wikipedia.org/wiki/Sensitivity_and_specificity"
   ]
  },
  {
   "cell_type": "code",
   "execution_count": 2,
   "metadata": {},
   "outputs": [
    {
     "data": {
      "image/png": "[encoded data removed]",
      "text/plain": [
       "<Figure size 600x400 with 1 Axes>"
      ]
     },
     "metadata": {},
     "output_type": "display_data"
    }
   ],
   "source": [
    "m = 0.000040566\n",
    "x = np.linspace(0, 1, num=100)\n",
    "y = m*x\n",
    "\n",
    "fig, ax = plt.subplots()\n",
    "ax.plot(x, y, color='orange')\n",
    "\n",
    "ax.set(xlabel='$p(A|B)$', ylabel='$p(A|\\overline{B})$', \n",
    "       title='Solutions to $p(B|A)$ = 0.99')\n",
    "ax.grid()"
   ]
  },
  {
   "cell_type": "markdown",
   "metadata": {},
   "source": [
    "## Problem 2 - Practice with discrete random variables\n",
    "\n",
    "Consider the Categorical random variable:\n",
    "\n",
    "$$\n",
    "X \\sim \\operatorname{Categorical}(0.3, 0.1, 0.2, 0.4),\n",
    "$$\n",
    "\n",
    "taking values in $\\{0,1,2,3\\}$. Find the following (you may use ``scipy.stats.rv_discrete`` or do it by hand):"
   ]
  },
  {
   "cell_type": "code",
   "execution_count": 3,
   "metadata": {},
   "outputs": [],
   "source": [
    "# Initial Setup:\n",
    "import scipy.stats as st\n",
    "# defining probabilities:\n",
    "ps = [0.3, 0.1, 0.2, 0.4]\n",
    "# corresponding values that X takes\n",
    "xs = np.array([0, 1, 2, 3])\n",
    "# define the categorical rv using scipy.stats.rv_discrete\n",
    "X = st.rv_discrete(name=\"Custom Categorical\", values=(xs, ps))"
   ]
  },
  {
   "cell_type": "markdown",
   "metadata": {},
   "source": [
    "A. The expectation $\\mathbb{E}[X]$.\n",
    "\n",
    "**Answer:**"
   ]
  },
  {
   "cell_type": "code",
   "execution_count": 4,
   "metadata": {},
   "outputs": [
    {
     "name": "stdout",
     "output_type": "stream",
     "text": [
      "E[X] = 1.70\n"
     ]
    }
   ],
   "source": [
    "print(f\"E[X] = {X.expect():.2f}\")"
   ]
  },
  {
   "cell_type": "markdown",
   "metadata": {},
   "source": [
    "B. The variance $\\mathbb{V}[X]$.\n",
    "\n",
    "**Answer:**"
   ]
  },
  {
   "cell_type": "code",
   "execution_count": 5,
   "metadata": {},
   "outputs": [
    {
     "name": "stdout",
     "output_type": "stream",
     "text": [
      "V[X] = 1.61\n"
     ]
    }
   ],
   "source": [
    "print(f\"V[X] = {X.var():.2f}\")"
   ]
  },
  {
   "cell_type": "markdown",
   "metadata": {},
   "source": [
    "C. Plot the probability mass function of $X$."
   ]
  },
  {
   "cell_type": "code",
   "execution_count": 6,
   "metadata": {},
   "outputs": [
    {
     "data": {
      "image/png": "[encoded data removed]",
      "text/plain": [
       "<Figure size 600x400 with 1 Axes>"
      ]
     },
     "metadata": {},
     "output_type": "display_data"
    }
   ],
   "source": [
    "fig, ax = plt.subplots()\n",
    "ax.bar(xs, X.pmf(xs), color='green', width=0.4)\n",
    "ax.set_xlabel(\"$x$\")\n",
    "ax.set_ylabel(\"$p(X = x)$\");"
   ]
  },
  {
   "cell_type": "markdown",
   "metadata": {},
   "source": [
    "D. Find the probability that $X$ is in $\\{0, 2\\}$.\n",
    "\n",
    "**Answer:**\n",
    "<br>\n",
    "Let $A = \\{0, 2\\}$\n",
    "$$\n",
    "p(X \\in A) = \\sum_{x \\in A}^{}p(x)\n",
    "$$\n",
    "\n",
    "$$\n",
    " = p(X = 0) + p(X = 2) = 0.3 + 0.2 = 0.5\n",
    "$$"
   ]
  },
  {
   "cell_type": "code",
   "execution_count": 7,
   "metadata": {},
   "outputs": [
    {
     "name": "stdout",
     "output_type": "stream",
     "text": [
      "p(X in {0,2}) = 0.50\n"
     ]
    }
   ],
   "source": [
    "setA = [0, 2]\n",
    "p_XsetA = X.pmf(0) + X.pmf(2)\n",
    "print(f\"p(X in {{0,2}}) = {p_XsetA:.2f}\")"
   ]
  },
  {
   "cell_type": "markdown",
   "metadata": {},
   "source": [
    "E. Find $\\mathbb{E}[4X + 3]$.\n",
    "\n",
    "**Answer:**\n",
    "<br>\n",
    "$$\n",
    "\\mathbb{E}[4X + 3] = \\mathbb{E}[4X] + \\mathbb{E}[3]\n",
    "$$\n",
    "\n",
    "$$\n",
    " = 4\\mathbb{E}[X] + 3\n",
    "$$\n",
    "\n",
    "$$\n",
    " = 4(1.7) + 3 = 9.80\n",
    "$$"
   ]
  },
  {
   "cell_type": "code",
   "execution_count": 8,
   "metadata": {},
   "outputs": [
    {
     "name": "stdout",
     "output_type": "stream",
     "text": [
      "E[4X + 3] = 9.80\n"
     ]
    }
   ],
   "source": [
    "E_4Xp3 = 4*X.expect() + 3\n",
    "print(f\"E[4X + 3] = {E_4Xp3:.2f}\")"
   ]
  },
  {
   "cell_type": "markdown",
   "metadata": {},
   "source": [
    "F. Find $\\mathbb{V}[4X + 3]$.\n",
    "\n",
    "**Answer:**\n",
    "<br>\n",
    "$$\n",
    "\\mathbb{V}[4X + 3] = \\mathbb{V}[4X]\n",
    "$$\n",
    "\n",
    "$$\n",
    " = 4^{2}\\mathbb{V}[X] = 16(1.61) = 25.76\n",
    "$$"
   ]
  },
  {
   "cell_type": "code",
   "execution_count": 9,
   "metadata": {},
   "outputs": [
    {
     "name": "stdout",
     "output_type": "stream",
     "text": [
      "V[4X + 3] = 25.76\n"
     ]
    }
   ],
   "source": [
    "V_4Xp3 = 4**2*X.var()\n",
    "print(f\"V[4X + 3] = {V_4Xp3:.2f}\")"
   ]
  },
  {
   "cell_type": "markdown",
   "metadata": {},
   "source": [
    "## Problem 3 - Predicting the probability of major earthquakes in Southern California\n",
    "\n",
    "The [San Andreas fault](https://en.wikipedia.org/wiki/San_Andreas_Fault) extends through California forming the boundary between the Pacific and the North American tectonic plates.\n",
    "It has caused some of the major earthquakes on Earth.\n",
    "We are going to focus on Southern California and we would like to assess the probability of a major earthquake, defined as an earthquake of magnitude 6.5 or greater, during the next ten years.\n",
    "\n",
    "A. The first thing we are going to do is go over a [database of past earthquakes](https://scedc.caltech.edu/significant/chron-index.html) that have occured in Southern California and collect the relevant data. We are going to start at 1900 because data before that time may are unreliable.\n",
    "Go over each decade and count the occurence of a major earthquake (i.e., count the number of organge and red colors in each decade). We have done this for you."
   ]
  },
  {
   "cell_type": "code",
   "execution_count": 10,
   "metadata": {},
   "outputs": [
    {
     "data": {
      "image/png": "[encoded data removed]",
      "text/plain": [
       "<Figure size 900x600 with 1 Axes>"
      ]
     },
     "metadata": {},
     "output_type": "display_data"
    }
   ],
   "source": [
    "eq_data = np.array([\n",
    "    0, # 1900-1909\n",
    "    1, # 1910-1919\n",
    "    2, # 1920-1929\n",
    "    0, # 1930-1939\n",
    "    3, # 1940-1949\n",
    "    2, # 1950-1959\n",
    "    1, # 1960-1969\n",
    "    2, # 1970-1979\n",
    "    1, # 1980-1989\n",
    "    4, # 1990-1999\n",
    "    0, # 2000-2009\n",
    "    2 # 2010-2019 \n",
    "])\n",
    "fig, ax = plt.subplots(dpi=150)\n",
    "ax.bar(np.linspace(1900, 2019, eq_data.shape[0]), eq_data, width=10, color='red')\n",
    "ax.set_xlabel('Decade')\n",
    "ax.set_ylabel('\\# of major earthquakes in Southern CA');"
   ]
  },
  {
   "cell_type": "markdown",
   "metadata": {},
   "source": [
    "B. The [Poisson distribution](https://en.wikipedia.org/wiki/Poisson_distribution) is a discrete distribution with values $\\{0,1,2,\\dots\\}$ which is commonly used to model the number of events occuring in a certain time period.\n",
    "It is the right choice when these events are happening independently and the probability of any event happening over a small period of time is constant.\n",
    "Let's use the Poisson to model the number of earthquakes $X$ occuring in a decade.\n",
    "We write:\n",
    "\n",
    "$$\n",
    "X \\sim \\operatorname{Poisson}(r),\n",
    "$$\n",
    "\n",
    "where $r$ is the *rate parameter* of Poisson.\n",
    "The rate is the number of events per time period.\n",
    "Here, $r$ is the number of earthquakes per decade.\n",
    "Using the data above, we can set the rate as the empirical average of the observed number of earthquakes per decade:"
   ]
  },
  {
   "cell_type": "code",
   "execution_count": 11,
   "metadata": {},
   "outputs": [
    {
     "name": "stdout",
     "output_type": "stream",
     "text": [
      "r = 1.50 major earthquakes per decade\n"
     ]
    }
   ],
   "source": [
    "r = np.mean(eq_data)\n",
    "print('r = {0:1.2f} major earthquakes per decade'.format(r))"
   ]
  },
  {
   "cell_type": "markdown",
   "metadata": {},
   "source": [
    "Strictly speaking, **this is not how you should be calibrating models!!!**\n",
    "We will learn about the **right** way (which uses Bayes' rule) in the subsequent lectures.\n",
    "But it will do for now as the answer you would get using the **right** way is, for this problem, almost the same.\n",
    "Let's define a Poisson distribution using ``scipy.stats.poisson`` (see documentation [here](https://docs.scipy.org/doc/scipy/reference/generated/scipy.stats.poisson.html)):"
   ]
  },
  {
   "cell_type": "code",
   "execution_count": 12,
   "metadata": {},
   "outputs": [],
   "source": [
    "import scipy.stats as st\n",
    "X = st.poisson(r)"
   ]
  },
  {
   "cell_type": "markdown",
   "metadata": {},
   "source": [
    "A. Plot the probability mass function of ``X``."
   ]
  },
  {
   "cell_type": "code",
   "execution_count": 13,
   "metadata": {},
   "outputs": [
    {
     "data": {
      "image/png": "[encoded data removed]",
      "text/plain": [
       "<Figure size 600x400 with 1 Axes>"
      ]
     },
     "metadata": {},
     "output_type": "display_data"
    }
   ],
   "source": [
    "ks = range(20)\n",
    "fig, ax = plt.subplots()\n",
    "ax.bar(ks, X.pmf(ks))\n",
    "ax.set_xlabel('Number of major earthquakes in a decade')\n",
    "ax.set_ylabel('Probability of occurance');"
   ]
  },
  {
   "cell_type": "markdown",
   "metadata": {},
   "source": [
    "B. What is the probability that at least one major earthquake will occur during the next decade?\n",
    "\n",
    "**Answer:**\n",
    "<br>\n",
    "$$\n",
    "p(X \\geq 1) = 1 - p(X = 0)\n",
    "$$\n",
    "\n",
    "$$\n",
    " = 1 - 0.2231 = 0.7769\n",
    "$$"
   ]
  },
  {
   "cell_type": "code",
   "execution_count": 14,
   "metadata": {},
   "outputs": [
    {
     "name": "stdout",
     "output_type": "stream",
     "text": [
      "p(X >= 1) = 0.7769\n"
     ]
    }
   ],
   "source": [
    "p_oneOrMore = 1 - X.pmf(0)\n",
    "print('p(X >= 1) = {0:1.4f}'.format(p_oneOrMore))"
   ]
  },
  {
   "cell_type": "markdown",
   "metadata": {},
   "source": [
    "C. What is the probability that at least one major earthquake will occur during the next two decades?\n",
    "Hint: Consider two independent and identical copies of $X$, say $X_1$ and $X_2$.\n",
    "And consider their sum $Y = X_1 + X_2$. Read [this](https://en.wikipedia.org/wiki/Poisson_distribution#Sums_of_Poisson-distributed_random_variables) about the sum of two independent Poisson distributions.\n",
    "<br>\n",
    "**Answer:**\n",
    "<br>\n",
    "It is known that:\n",
    "\n",
    "\n",
    "If $X_{i} \\sim \\operatorname{Poisson}(\\lambda_{i})$ for $i = 1,...,n$ are independent, then $\\sum_{i = 1}^{n}X_{i} \\sim \\operatorname{Poisson}(\\sum_{i = 1}^{n}\\lambda_{i})$\n",
    "\n",
    "Following this statement, it is true then that in this situation:\n",
    "\n",
    "<center> $\\lambda_{i} = r$ for $i = 1,...,n$ </center>\n",
    "\n",
    "$$\n",
    "X_{1} + X_{2} = Y \\sim \\operatorname{Poisson}(r+r)\n",
    "$$"
   ]
  },
  {
   "cell_type": "code",
   "execution_count": 15,
   "metadata": {},
   "outputs": [
    {
     "name": "stdout",
     "output_type": "stream",
     "text": [
      "p(Y = X1 + X2 >= 1) = 0.9502\n"
     ]
    }
   ],
   "source": [
    "newR = r + r\n",
    "Y = st.poisson(newR)\n",
    "p_oneOrMoreNext2 = 1 - Y.pmf(0)\n",
    "print('p(Y = X1 + X2 >= 1) = {0:1.4f}'.format(p_oneOrMoreNext2))"
   ]
  },
  {
   "cell_type": "markdown",
   "metadata": {},
   "source": [
    "D. What is the probability that at least one major earthquake will occur during the next five decades?<br>\n",
    "**Answer:**\n",
    "<br>\n",
    "$$\n",
    "Y_{n} = \\sum_{i = 1}^{n}X_{i}\n",
    "$$\n",
    "\n",
    "Since all $X_{i}$ are independent and identically distributed:\n",
    "\n",
    "$$\n",
    "Y_{n} \\sim \\operatorname{Poisson}(\\sum_{i = 1}^{n}r)=\\operatorname{Poisson}(nr)\n",
    "$$\n",
    "\n",
    "For n = 5:\n",
    "\n",
    "$$\n",
    "Y_{n} \\sim \\operatorname{Poisson}(5r)\n",
    "$$"
   ]
  },
  {
   "cell_type": "code",
   "execution_count": 16,
   "metadata": {},
   "outputs": [
    {
     "name": "stdout",
     "output_type": "stream",
     "text": [
      "p(Y >= 1) = 0.9994\n"
     ]
    }
   ],
   "source": [
    "newR = 5*r\n",
    "Y = st.poisson(newR)\n",
    "p_oneOrMoreNext5 = 1 - Y.pmf(0)\n",
    "print('p(Y >= 1) = {0:1.4f}'.format(p_oneOrMoreNext5))"
   ]
  }
 ],
 "metadata": {
  "celltoolbar": "Tags",
  "kernelspec": {
   "display_name": "Python 3 (ipykernel)",
   "language": "python",
   "name": "python3"
  },
  "language_info": {
   "codemirror_mode": {
    "name": "ipython",
    "version": 3
   },
   "file_extension": ".py",
   "mimetype": "text/x-python",
   "name": "python",
   "nbconvert_exporter": "python",
   "pygments_lexer": "ipython3",
   "version": "3.9.12"
  }
 },
 "nbformat": 4,
 "nbformat_minor": 4
}
