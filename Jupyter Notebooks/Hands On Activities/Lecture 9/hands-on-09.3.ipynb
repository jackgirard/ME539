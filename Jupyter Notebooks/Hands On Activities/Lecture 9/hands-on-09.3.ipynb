{
 "cells": [
  {
   "cell_type": "code",
   "execution_count": 1,
   "metadata": {
    "tags": [
     "hide-input"
    ]
   },
   "outputs": [],
   "source": [
    "import numpy as np\n",
    "np.set_printoptions(precision=3)\n",
    "import matplotlib.pyplot as plt\n",
    "%matplotlib inline\n",
    "import seaborn as sns\n",
    "sns.set(rc={\"figure.dpi\":100, 'savefig.dpi':300})\n",
    "sns.set_context('notebook')\n",
    "sns.set_style(\"ticks\")"
   ]
  },
  {
   "cell_type": "markdown",
   "metadata": {},
   "source": [
    "# Hands-on Activity 9.3: Sampling Estimates of Predictive Quantiles\n",
    "\n",
    "## Objectives\n",
    "\n",
    "- To estimate predictive quantiles."
   ]
  },
  {
   "cell_type": "markdown",
   "metadata": {},
   "source": [
    "## Estimating predictive quantiles\n",
    "\n",
    "Take $X$ to be a random variable and $Y=g(X)$ a function of $X$.\n",
    "The $q$-predictive quantile of $Y$ is defined to be the number $\\mu_q$ for which:\n",
    "\n",
    "$$\n",
    "F(\\mu_q) = p(Y \\le \\mu_q) = \\frac{q}{100},\n",
    "$$\n",
    "\n",
    "where $F(y)$ was defined to be the CDF of $Y$.\n",
    "For example, the 50\\% quantile (also known as the median) is the value $\\mu_50$ for which:\n",
    "\n",
    "$$\n",
    "F(\\mu_{50}) = p(Y \\le \\mu_{50}) = \\frac{50}{100} = 0.5.\n",
    "$$\n",
    "\n",
    "So, to find the quantiles we need to 1) know the CDF of $Y$ and 2) solve a root finding problem with $\\mu_q$ as the unknown.\n",
    "We have already seen how one can estimate the CDF from samples, so we would only have to worry about the root finding problem.\n",
    "This is not terribly difficult to do, but since it is already implemented in ``numpy`` we are not going to bother with it.\n",
    "So, here is how you can find the empirical quantiles of $Y$ for a specific example where $g(x)$ is given by the Example 3.4 of Robert & Casella (2004):\n",
    "\n",
    "$$\n",
    "g(x) = \\left(\\cos(50x) + \\sin(20x)\\right)^2.\n",
    "$$\n",
    "\n",
    "and $X\\sim U([0,1])$.\n",
    "\n",
    "As usual, define the function and take some samples:"
   ]
  },
  {
   "cell_type": "code",
   "execution_count": 2,
   "metadata": {},
   "outputs": [],
   "source": [
    "# define the function here:\n",
    "g = lambda x: (np.cos(50 * x) + np.sin(20 * x)) ** 2\n",
    "\n",
    "# Maximum number of samples to take\n",
    "max_n = 10000 \n",
    "# Generate samples from X\n",
    "x_samples = np.random.rand(max_n)\n",
    "# Get the corresponding Y's\n",
    "y_samples = g(x_samples)"
   ]
  },
  {
   "cell_type": "markdown",
   "metadata": {},
   "source": [
    "Now let's, find the 50-percent quantile:"
   ]
  },
  {
   "cell_type": "code",
   "execution_count": 3,
   "metadata": {},
   "outputs": [
    {
     "name": "stdout",
     "output_type": "stream",
     "text": [
      "mu_50 = 0.57\n"
     ]
    }
   ],
   "source": [
    "mu_50 = np.quantile(y_samples, 50 / 100)\n",
    "print(f\"mu_50 = {mu_50:.2f}\")"
   ]
  },
  {
   "cell_type": "code",
   "execution_count": 4,
   "metadata": {},
   "outputs": [
    {
     "name": "stdout",
     "output_type": "stream",
     "text": [
      "mu_025 = 0.00\n",
      "mu_975 = 3.62\n"
     ]
    }
   ],
   "source": [
    "# Let's find the 2.5-percent quantile\n",
    "mu_025 = np.quantile(y_samples, 2.5 / 100)\n",
    "print(f\"mu_025 = {mu_025:.2f}\")\n",
    "# and the 97.5-percent quantile\n",
    "mu_975 = np.quantile(y_samples, 97.5 / 100)\n",
    "print(f\"mu_975 = {mu_975:.2f}\")"
   ]
  },
  {
   "cell_type": "markdown",
   "metadata": {},
   "source": [
    "Let's now mark these quantiles on the histogram of Y:"
   ]
  },
  {
   "cell_type": "code",
   "execution_count": 5,
   "metadata": {},
   "outputs": [
    {
     "data": {
      "image/png": "[encoded data removed]",
      "text/plain": [
       "<Figure size 600x400 with 1 Axes>"
      ]
     },
     "metadata": {},
     "output_type": "display_data"
    }
   ],
   "source": [
    "fig, ax = plt.subplots()\n",
    "ax.hist(\n",
    "    y_samples,\n",
    "    density=True,\n",
    "    alpha=0.25,\n",
    "    bins=100\n",
    ")\n",
    "ax.plot(\n",
    "    [mu_50],\n",
    "    [0],\n",
    "    \"ro\",\n",
    "    markersize=5, \n",
    "    label=\"50% quantile (median)\"\n",
    ")\n",
    "ax.plot(\n",
    "    [mu_025],\n",
    "    [0],\n",
    "    \"bo\",\n",
    "    markersize=5,\n",
    "    label=\"2.5% quantile\"\n",
    ")\n",
    "ax.plot(\n",
    "    [mu_975],\n",
    "    [0],\n",
    "    \"go\",\n",
    "    markersize=5,\n",
    "    label=\"97.5% quantile\"\n",
    ")\n",
    "ax.set_xlabel(r\"$y$\")\n",
    "ax.set_ylabel(r\"$p(y)$\")\n",
    "plt.legend(loc=\"best\");"
   ]
  },
  {
   "cell_type": "markdown",
   "metadata": {},
   "source": [
    "Very often, the predictive intervals are summarized using box plots:"
   ]
  },
  {
   "cell_type": "code",
   "execution_count": 6,
   "metadata": {},
   "outputs": [
    {
     "data": {
      "text/plain": [
       "Text(0, 0.5, '$y$')"
      ]
     },
     "execution_count": 6,
     "metadata": {},
     "output_type": "execute_result"
    },
    {
     "data": {
      "image/png": "[encoded data removed]",
      "text/plain": [
       "<Figure size 600x400 with 1 Axes>"
      ]
     },
     "metadata": {},
     "output_type": "display_data"
    }
   ],
   "source": [
    "fig, ax = plt.subplots()\n",
    "ax.boxplot(y_samples, whis=[2.5, 97.5], labels=[\"Y\"]);\n",
    "ax.set_ylabel(r\"$y$\")"
   ]
  },
  {
   "cell_type": "markdown",
   "metadata": {},
   "source": [
    "In the plot above, the $y$-axis indicates possible values, the median is shown as an orange line, the box encapsulates 50\\% of the probability around the median, and the whiskers are extreme quantiles (here selected to be the 2.5\\% and and 97.5\\% quantiles). Finally, the plot also shows the samples that fall outside the extreme quantiles."
   ]
  },
  {
   "cell_type": "markdown",
   "metadata": {},
   "source": [
    "### Questions\n",
    "+ How much probability do you have on the left of $\\mu_{50}$, i.e., what is $p(Y \\le \\mu_{50})$? --> 0.5\n",
    "+ How much probability do you have on the right of $\\mu_{50}$, i.e., what is $p(Y > \\mu_{50})$? --> 0.5\n",
    "+ How much probability do you have on the left of $\\mu_{2.5}$? --> 0.025\n",
    "+ How much probability do you have on the right of $\\mu_{97.5}$? --> 0.025\n",
    "+ How much probability do you have between $\\mu_{2.5}$ and $\\mu_{97.5}$? --> 0.95\n",
    "+ The predictive quantiles are a very nice way to summarize the probability density of a random variable with a few numbers.\n",
    "For example, you can think of $\\mu_{50}$ as a central value of $Y$.\n",
    "Often, we call the interval $[\\mu_{2.5}, \\mu_{97.5}]$ the 95\\% *predictive inteval*.\n",
    "You can interpret this interval as $Y \\in [\\mu_{2.5}, \\mu_{97.5}]$ with 95\\% probability. Find a $99$\\% predictive interval for the $Y$ of the example above."
   ]
  },
  {
   "cell_type": "code",
   "execution_count": 7,
   "metadata": {},
   "outputs": [
    {
     "name": "stdout",
     "output_type": "stream",
     "text": [
      "mu_01 = 0.00\n",
      "mu_99 = 3.80\n",
      "99% predictive interval =  [5.210e-05 3.801e+00]\n"
     ]
    }
   ],
   "source": [
    "# Let's find the 1-percent quantile\n",
    "mu_01 = np.quantile(y_samples, 1.0 / 100)\n",
    "print(f\"mu_01 = {mu_01:.2f}\")\n",
    "# and the 99-percent quantile\n",
    "mu_99 = np.quantile(y_samples, 99.0 / 100)\n",
    "print(f\"mu_99 = {mu_99:.2f}\")\n",
    "newQuant = np.array([mu_01, mu_99])\n",
    "print(\"99% predictive interval = \", newQuant)"
   ]
  }
 ],
 "metadata": {
  "celltoolbar": "Tags",
  "kernelspec": {
   "display_name": "Python 3 (ipykernel)",
   "language": "python",
   "name": "python3"
  },
  "language_info": {
   "codemirror_mode": {
    "name": "ipython",
    "version": 3
   },
   "file_extension": ".py",
   "mimetype": "text/x-python",
   "name": "python",
   "nbconvert_exporter": "python",
   "pygments_lexer": "ipython3",
   "version": "3.9.12"
  }
 },
 "nbformat": 4,
 "nbformat_minor": 4
}
