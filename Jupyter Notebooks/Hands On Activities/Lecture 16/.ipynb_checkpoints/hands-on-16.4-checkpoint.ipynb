{
 "cells": [
  {
   "cell_type": "code",
   "execution_count": 15,
   "metadata": {
    "tags": [
     "hide-input"
    ]
   },
   "outputs": [],
   "source": [
    "import numpy as np\n",
    "np.set_printoptions(precision=3)\n",
    "import matplotlib.pyplot as plt\n",
    "%matplotlib inline\n",
    "import seaborn as sns\n",
    "sns.set(rc={\"figure.dpi\":100, \"savefig.dpi\":300})\n",
    "sns.set_context(\"notebook\")\n",
    "sns.set_style(\"ticks\")\n",
    "\n",
    "import scipy\n",
    "import scipy.stats as st\n",
    "import urllib.request\n",
    "import os\n",
    "\n",
    "def download(\n",
    "    url : str,\n",
    "    local_filename : str = None\n",
    "):\n",
    "    \"\"\"Download a file from a url.\n",
    "    \n",
    "    Arguments\n",
    "    url            -- The url we want to download.\n",
    "    local_filename -- The filemame to write on. If not\n",
    "                      specified \n",
    "    \"\"\"\n",
    "    if local_filename is None:\n",
    "        local_filename = os.path.basename(url)\n",
    "    urllib.request.urlretrieve(url, local_filename)"
   ]
  },
  {
   "cell_type": "markdown",
   "metadata": {},
   "source": [
    "(diagnostics_for_classification)=\n",
    "# Diagnostics for Classifications\n",
    "\n",
    "## Objectives\n",
    "\n",
    "+ To assess the qualtity of a classification model\n",
    "\n",
    "## High melting explosives sensitivity\n",
    "Let's repeat what we did for the HMX example, but after splitting the dataset into training and validation subsets.\n",
    "We will be making predictions on the validation subset."
   ]
  },
  {
   "cell_type": "code",
   "execution_count": 16,
   "metadata": {
    "tags": [
     "hide-input"
    ]
   },
   "outputs": [
    {
     "data": {
      "image/png": "[encoded data removed]",
      "text/plain": [
       "<Figure size 600x400 with 1 Axes>"
      ]
     },
     "metadata": {},
     "output_type": "display_data"
    }
   ],
   "source": [
    "# TODO: Change url\n",
    "# url = 'https://raw.githubusercontent.com/PredictiveScienceLab/data-analytics-se/master/activities/hmx_data.csv'\n",
    "url = \"https://github.com/PredictiveScienceLab/data-analytics-se/raw/master/lecturebook/data/hmx_data.csv\"\n",
    "download(url)\n",
    "\n",
    "import pandas as pd\n",
    "data = pd.read_csv('hmx_data.csv')\n",
    "x = data['Height'].values\n",
    "label_coding = {'E': 1, 'N': 0}\n",
    "y = np.array([label_coding[r] for r in data['Result']])\n",
    "data['y'] = y\n",
    "\n",
    "from sklearn.model_selection import train_test_split\n",
    "\n",
    "x_train, x_valid, y_train, y_valid = train_test_split(x, y, test_size=0.33)\n",
    "\n",
    "num_obs = x.shape[0]\n",
    "\n",
    "fig, ax = plt.subplots()\n",
    "ax.plot(x_train, y_train, 'x', label='Training data')\n",
    "ax.plot(x_valid, y_valid, 'o', label='Validation data')\n",
    "plt.legend(loc='best');"
   ]
  },
  {
   "cell_type": "markdown",
   "metadata": {},
   "source": [
    "Fit the model like before:"
   ]
  },
  {
   "cell_type": "code",
   "execution_count": 17,
   "metadata": {},
   "outputs": [],
   "source": [
    "from sklearn.preprocessing import PolynomialFeatures\n",
    "from sklearn.linear_model import LogisticRegression\n",
    "\n",
    "# Design matrix\n",
    "poly = PolynomialFeatures(5)\n",
    "Phi = poly.fit_transform(x[:, None])\n",
    "\n",
    "# Fit\n",
    "model = LogisticRegression(\n",
    "    penalty='none',\n",
    "    fit_intercept=False\n",
    ").fit(Phi, y)"
   ]
  },
  {
   "cell_type": "markdown",
   "metadata": {},
   "source": [
    "Predict on validation:"
   ]
  },
  {
   "cell_type": "code",
   "execution_count": 18,
   "metadata": {},
   "outputs": [],
   "source": [
    "Phi_valid = poly.fit_transform(x_valid[:, None])\n",
    "predictions = model.predict_proba(Phi_valid)"
   ]
  },
  {
   "cell_type": "markdown",
   "metadata": {},
   "source": [
    "Decide:"
   ]
  },
  {
   "cell_type": "code",
   "execution_count": 19,
   "metadata": {},
   "outputs": [
    {
     "name": "stdout",
     "output_type": "stream",
     "text": [
      "x\tCost of 0\tCost of 1\tTrue label\tChoice\n",
      "--------------------------------------------------------------------------------\n",
      "40.50\t1.00\t\t0.00*\t\t1\t\tCORRECT\n",
      "25.50\t0.22*\t\t0.78\t\t0\t\tCORRECT\n",
      "25.50\t0.22*\t\t0.78\t\t0\t\tCORRECT\n",
      "22.50\t0.25*\t\t0.75\t\t0\t\tCORRECT\n",
      "22.50\t0.25*\t\t0.75\t\t0\t\tCORRECT\n",
      "25.50\t0.22*\t\t0.78\t\t0\t\tCORRECT\n",
      "36.00\t0.92\t\t0.08*\t\t1\t\tCORRECT\n",
      "40.50\t1.00\t\t0.00*\t\t1\t\tCORRECT\n",
      "36.00\t0.92\t\t0.08*\t\t1\t\tCORRECT\n",
      "40.50\t1.00\t\t0.00*\t\t1\t\tCORRECT\n",
      "28.50\t0.24*\t\t0.76\t\t1\t\tWRONG\n",
      "22.50\t0.25*\t\t0.75\t\t0\t\tCORRECT\n",
      "36.00\t0.92\t\t0.08*\t\t1\t\tCORRECT\n",
      "28.50\t0.24*\t\t0.76\t\t0\t\tCORRECT\n",
      "32.00\t0.44*\t\t0.56\t\t1\t\tWRONG\n",
      "28.50\t0.24*\t\t0.76\t\t0\t\tCORRECT\n",
      "36.00\t0.92\t\t0.08*\t\t1\t\tCORRECT\n",
      "25.50\t0.22*\t\t0.78\t\t1\t\tWRONG\n",
      "32.00\t0.44*\t\t0.56\t\t1\t\tWRONG\n",
      "36.00\t0.92\t\t0.08*\t\t1\t\tCORRECT\n"
     ]
    }
   ],
   "source": [
    "cost_matrix = np.array(\n",
    "    [\n",
    "        [0.0, 1.0],\n",
    "        [1.0, 0.0]\n",
    "    ]\n",
    ")\n",
    "\n",
    "exp_cost = np.einsum('ij,ki->kj', cost_matrix, predictions)\n",
    "y_pred = np.argmin(exp_cost, axis=1)\n",
    "\n",
    "print('x\\tCost of 0\\tCost of 1\\tTrue label\\tChoice')\n",
    "print('-' * 80)\n",
    "for i in range(x_valid.shape[0]):\n",
    "    exp_c = exp_cost[i]\n",
    "    line = f'{x_valid[i]:1.2f}\\t{exp_c[0]:1.2f}'\n",
    "    tmp = f'\\t\\t{exp_c[1]:1.2f}'\n",
    "    correct_choice = True\n",
    "    if exp_c[0] < exp_c[1]:\n",
    "        line += '*'\n",
    "        if y_valid[i] == 1:\n",
    "            correct_choice = False\n",
    "    else:\n",
    "        tmp += '*'\n",
    "        if y_valid[i] == 0:\n",
    "            correct_choice = False\n",
    "    line += tmp + f'\\t\\t{y_valid[i]}'\n",
    "    if correct_choice:\n",
    "        line += '\\t\\tCORRECT'\n",
    "    else:\n",
    "        line += '\\t\\tWRONG'\n",
    "    print(line)"
   ]
  },
  {
   "cell_type": "markdown",
   "metadata": {},
   "source": [
    "First, let's calculate the accuracy score:"
   ]
  },
  {
   "cell_type": "code",
   "execution_count": 20,
   "metadata": {},
   "outputs": [
    {
     "name": "stdout",
     "output_type": "stream",
     "text": [
      "HMX Accuracy = 80.00 %\n"
     ]
    }
   ],
   "source": [
    "from sklearn.metrics import accuracy_score\n",
    "\n",
    "acc = accuracy_score(y_valid, y_pred)\n",
    "\n",
    "print(f'HMX Accuracy = {acc * 100:1.2f} %')"
   ]
  },
  {
   "cell_type": "markdown",
   "metadata": {},
   "source": [
    "Not bad. But let's also look at the balanced accuracy score:"
   ]
  },
  {
   "cell_type": "code",
   "execution_count": 21,
   "metadata": {},
   "outputs": [
    {
     "name": "stdout",
     "output_type": "stream",
     "text": [
      "HMX balanced accuracy = 83.33 %\n"
     ]
    }
   ],
   "source": [
    "from sklearn.metrics import balanced_accuracy_score\n",
    "\n",
    "bacc = balanced_accuracy_score(y_valid, y_pred)\n",
    "\n",
    "print(f'HMX balanced accuracy = {bacc * 100:1.2f} %')"
   ]
  },
  {
   "cell_type": "markdown",
   "metadata": {},
   "source": [
    "Now, let's look at the confusion matrix:"
   ]
  },
  {
   "cell_type": "code",
   "execution_count": 22,
   "metadata": {},
   "outputs": [
    {
     "data": {
      "image/png": "[encoded data removed]",
      "text/plain": [
       "<Figure size 600x400 with 2 Axes>"
      ]
     },
     "metadata": {},
     "output_type": "display_data"
    }
   ],
   "source": [
    "from sklearn.metrics import confusion_matrix, ConfusionMatrixDisplay\n",
    "\n",
    "cm = confusion_matrix(\n",
    "    y_valid,\n",
    "    y_pred,\n",
    "    labels=model.classes_\n",
    ")\n",
    "\n",
    "disp = ConfusionMatrixDisplay(\n",
    "    confusion_matrix=cm,\n",
    "    display_labels=model.classes_\n",
    ")\n",
    "disp.plot();"
   ]
  },
  {
   "cell_type": "markdown",
   "metadata": {},
   "source": [
    "### Questions\n",
    "\n",
    "+ Repeat the analysis above with a higher degree polynomial, say 5. Is the result better or worse? Why? --> the result is worse, meaning that the model performs worse on the validation data; this may be the case because the higher degree of polynomial leads to overfitting and less translation of performance on the validation data"
   ]
  }
 ],
 "metadata": {
  "celltoolbar": "Tags",
  "kernelspec": {
   "display_name": "Python 3 (ipykernel)",
   "language": "python",
   "name": "python3"
  },
  "language_info": {
   "codemirror_mode": {
    "name": "ipython",
    "version": 3
   },
   "file_extension": ".py",
   "mimetype": "text/x-python",
   "name": "python",
   "nbconvert_exporter": "python",
   "pygments_lexer": "ipython3",
   "version": "3.9.12"
  }
 },
 "nbformat": 4,
 "nbformat_minor": 4
}
