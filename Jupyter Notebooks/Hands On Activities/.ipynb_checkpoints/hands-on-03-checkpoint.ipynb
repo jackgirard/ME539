{
 "cells": [
  {
   "cell_type": "code",
   "execution_count": 1,
   "metadata": {
    "tags": [
     "hide-input"
    ]
   },
   "outputs": [],
   "source": [
    "import numpy as np\n",
    "import matplotlib.pyplot as plt\n",
    "%matplotlib inline\n",
    "import seaborn as sns\n",
    "sns.set(rc={\"figure.dpi\":100, \"savefig.dpi\":300})\n",
    "sns.set_context(\"notebook\")\n",
    "sns.set_style(\"ticks\")"
   ]
  },
  {
   "cell_type": "markdown",
   "metadata": {},
   "source": [
    "# Discrete Random Variables in Python\n",
    "\n",
    "## Objectives\n",
    "+ To develop intuition about the probability mass function.\n",
    "+ To learn about the Binomial distribution.\n",
    "+ To learn about the Poisson distribution."
   ]
  },
  {
   "cell_type": "markdown",
   "metadata": {},
   "source": [
    "## The Bernoulli Distribution\n",
    "\n",
    "The Bernoulli distribution generalizes the concept of a coin toss.\n",
    "You can think of it as the result of an experiment with two possible outcomes $0$ and $1$.\n",
    "One just needs to specify the probability of one of the outcomes, typically the probability of zero.\n",
    "So, how do we denote mathematically a Bernoulli random variable $X$ that takes the value $1$ with probability $\\theta$ in $[0,1]$?\n",
    "We can write:\n",
    "\n",
    "$$\n",
    "X = \\begin{cases} 1,\\;\\text{with probability}\\;\\theta,\\\\\n",
    "0,\\;\\text{otherwise}.\n",
    "\\end{cases}\n",
    "$$\n",
    "\n",
    "Notice that in defining this random variable we are ignoring the mechanism that is giving rise to it.\n",
    "This is ok. It just means that we have decided to not look into it.\n",
    "The other way we can write this is as follows:\n",
    "\n",
    "$$\n",
    "X \\sim \\operatorname{Bernoulli}(\\theta).\n",
    "$$\n",
    "\n",
    "Let's use the functionality of ``scipy.stats`` to define a Bernoulli random variable and sample from it."
   ]
  },
  {
   "cell_type": "code",
   "execution_count": 5,
   "metadata": {},
   "outputs": [],
   "source": [
    "# Import the scipy.stats library\n",
    "import scipy.stats as st\n",
    "# This is the probability of 1:\n",
    "theta = 0.8\n",
    "# Define the random variable, Bernoulli(theta)\n",
    "X = st.bernoulli(theta)"
   ]
  },
  {
   "cell_type": "markdown",
   "metadata": {},
   "source": [
    "Here is the **support** of the random variable.\n",
    "It tells you which values it takes:"
   ]
  },
  {
   "cell_type": "code",
   "execution_count": 3,
   "metadata": {},
   "outputs": [
    {
     "name": "stdout",
     "output_type": "stream",
     "text": [
      "X takes values in (0, 1)\n"
     ]
    }
   ],
   "source": [
    "print(\"X takes values in\", X.support())"
   ]
  },
  {
   "cell_type": "markdown",
   "metadata": {},
   "source": [
    "Evaluate the probability mass function at every point of the support:"
   ]
  },
  {
   "cell_type": "code",
   "execution_count": 4,
   "metadata": {},
   "outputs": [
    {
     "name": "stdout",
     "output_type": "stream",
     "text": [
      "p(X=0) = 0.40\n",
      "p(X=1) = 0.60\n"
     ]
    }
   ],
   "source": [
    "for x in X.support():\n",
    "    print(f\"p(X={x}) = {X.pmf(x):.2f}\")"
   ]
  },
  {
   "cell_type": "markdown",
   "metadata": {},
   "source": [
    "The expectation of the Bernoulli:"
   ]
  },
  {
   "cell_type": "code",
   "execution_count": 5,
   "metadata": {},
   "outputs": [
    {
     "name": "stdout",
     "output_type": "stream",
     "text": [
      "E[X] = 0.60\n"
     ]
    }
   ],
   "source": [
    "print(f\"E[X] = {X.expect():1.2f}\")"
   ]
  },
  {
   "cell_type": "markdown",
   "metadata": {},
   "source": [
    "The variance of the Bernoulli:"
   ]
  },
  {
   "cell_type": "code",
   "execution_count": 6,
   "metadata": {},
   "outputs": [
    {
     "name": "stdout",
     "output_type": "stream",
     "text": [
      "V[X] = 0.24\n"
     ]
    }
   ],
   "source": [
    "print(f\"V[X] = {X.var():1.2f}\")"
   ]
  },
  {
   "cell_type": "markdown",
   "metadata": {},
   "source": [
    "Here is how to sample the random variable 10 times:"
   ]
  },
  {
   "cell_type": "code",
   "execution_count": 6,
   "metadata": {},
   "outputs": [
    {
     "name": "stdout",
     "output_type": "stream",
     "text": [
      "samples: [1 1 1 1 1 1 0 1 1 1 1 1 1 1 0 0 1 1 1 1 0 0 1 1 1 1 1 1 1 1 1 1 0 1 1 1 1\n",
      " 1 1 1 1 1 1 1 0 0 1 1 1 1 1 1 0 1 1 1 1 1 1 0 1 1 1 1 1 1 1 1 0 1 0 1 1 0\n",
      " 1 1 1 0 1 0 1 1 1 0 1 1 1 1 1 1 1 1 1 0 1 1 0 1 1 1 1 1 1 1 0 1 1 1 1 0 1\n",
      " 0 1 0 0 0 1 1 0 0 1 0 1 1 0 1 1 0 1 1 0 1 0 1 0 1 1 0 1 0 1 1 1 1 1 1 1 0\n",
      " 1 1 1 1 1 1 0 1 1 1 0 1 1 1 1 0 1 1 1 1 1 1 1 0 1 1 1 1 1 1 0 1 1 1 0 0 1\n",
      " 1 1 0 1 1 1 1 0 1 1 1 1 1 1 0 1 1 1 1 1 1 1 1 1 1 1 1 0 1 1 1 1 1 0 1 0 0\n",
      " 1 1 1 1 1 1 1 1 1 1 1 1 1 1 0 1 1 1 0 1 0 0 1 1 1 1 1 1 1 1 1 0 1 1 1 1 1\n",
      " 0 1 1 1 1 1 1 1 1 0 1 1 1 1 1 1 1 1 1 0 1 0 1 1 1 1 1 0 0 0 1 0 1 1 0 1 0\n",
      " 1 0 1 1 1 0 0 1 1 0 1 1 1 1 1 0 1 1 1 0 1 1 1 1 1 1 1 1 0 1 1 1 1 1 1 1 1\n",
      " 1 1 1 1 1 1 0 1 1 1 1 0 1 1 0 1 1 1 1 1 1 1 1 1 1 1 1 1 1 0 0 1 1 1 1 1 1\n",
      " 1 1 1 1 0 0 1 1 1 1 1 1 1 1 0 1 0 1 1 1 1 1 1 1 0 1 0 1 1 1 1 1 0 1 1 1 1\n",
      " 1 1 1 1 1 0 0 1 1 1 1 1 1 1 1 0 1 1 0 1 0 1 1 1 1 1 1 0 1 1 1 1 1 1 1 1 1\n",
      " 0 1 1 1 1 1 1 1 1 1 1 1 0 1 0 1 1 1 1 1 1 1 1 1 1 1 1 1 0 1 1 0 1 1 1 1 1\n",
      " 1 1 1 1 1 1 1 1 0 1 1 1 1 0 1 1 0 1 1 1 1 1 1 1 1 1 1 1 0 0 0 1 1 1 1 0 1\n",
      " 0 1 1 1 0 1 1 1 0 0 1 1 1 1 0 1 0 1 0 1 1 1 1 1 1 1 1 1 1 1 1 1 1 1 1 0 1\n",
      " 1 0 0 1 1 1 1 1 1 0 1 1 1 1 1 1 0 1 1 1 1 0 1 1 0 1 1 0 1 0 1 0 1 1 1 1 1\n",
      " 1 1 1 1 1 1 1 1 0 1 0 1 0 1 1 1 1 1 0 1 1 0 1 1 1 1 1 0 1 1 1 1 1 1 1 1 1\n",
      " 1 1 0 1 1 0 1 1 1 1 1 1 0 1 1 1 1 0 1 1 1 1 1 0 0 1 1 0 0 0 1 1 1 1 1 0 1\n",
      " 1 1 1 1 1 1 1 1 0 0 1 0 1 1 1 1 1 1 1 1 1 1 1 1 1 1 1 1 1 1 0 1 1 1 1 1 1\n",
      " 1 1 0 1 1 1 1 1 1 1 1 1 1 1 1 1 1 1 0 0 1 1 1 1 1 1 1 1 1 1 1 1 1 1 1 1 1\n",
      " 1 1 1 1 0 1 1 1 1 0 1 1 1 1 1 0 1 1 1 1 1 1 1 0 1 1 1 1 1 0 1 0 1 0 1 1 1\n",
      " 1 1 1 0 1 1 1 1 1 1 1 1 1 1 0 1 0 1 1 1 1 1 1 1 1 1 1 1 1 1 1 1 0 1 1 1 1\n",
      " 1 1 1 1 1 1 1 1 1 1 1 1 1 1 1 1 1 1 1 1 0 0 1 1 1 1 1 1 1 1 1 0 1 1 0 1 0\n",
      " 1 0 1 1 1 1 1 1 1 1 1 1 1 1 1 1 0 1 1 1 1 0 1 1 1 1 0 1 1 1 1 0 0 0 0 1 0\n",
      " 1 1 1 1 1 1 0 1 0 1 1 1 1 1 1 1 0 0 1 1 1 1 0 1 0 1 0 1 1 1 1 1 1 0 1 1 1\n",
      " 0 1 1 1 1 1 1 1 1 0 1 1 1 1 0 1 1 1 1 1 1 1 1 1 1 1 1 0 0 1 0 1 1 1 1 0 0\n",
      " 1 0 1 1 1 1 1 0 1 1 0 0 0 1 1 1 0 1 1 1 1 1 1 1 1 1 1 1 1 1 1 1 1 0 1 1 1\n",
      " 0]\n"
     ]
    }
   ],
   "source": [
    "xs = X.rvs(size=1000)\n",
    "print(f\"samples: {xs}\")"
   ]
  },
  {
   "cell_type": "markdown",
   "metadata": {},
   "source": [
    "Let's plot the histogram of these samples (simply counts how many samples are zero or one):"
   ]
  },
  {
   "cell_type": "code",
   "execution_count": 7,
   "metadata": {},
   "outputs": [
    {
     "data": {
      "image/png": "[encoded data removed]",
      "text/plain": [
       "<Figure size 600x400 with 1 Axes>"
      ]
     },
     "metadata": {},
     "output_type": "display_data"
    }
   ],
   "source": [
    "fig, ax = plt.subplots()\n",
    "ax.hist(xs)\n",
    "ax.set_xlabel(\"$x$\")\n",
    "ax.set_ylabel(\"Counts\");"
   ]
  },
  {
   "cell_type": "markdown",
   "metadata": {},
   "source": [
    "Compare the histogram to the graph of the probability mass function:"
   ]
  },
  {
   "cell_type": "code",
   "execution_count": 8,
   "metadata": {},
   "outputs": [
    {
     "data": {
      "image/png": "[encoded data removed]",
      "text/plain": [
       "<Figure size 600x400 with 1 Axes>"
      ]
     },
     "metadata": {},
     "output_type": "display_data"
    }
   ],
   "source": [
    "fig, ax = plt.subplots()\n",
    "ax.bar(X.support(), X.pmf(X.support()))\n",
    "ax.set_xlabel(\"$x$\")\n",
    "ax.set_ylabel(\"$p(x)$\");"
   ]
  },
  {
   "cell_type": "markdown",
   "metadata": {},
   "source": [
    "### Questions\n",
    "+ Modify the code above to take $1000$ samples from the random variable instead of just 10.\n",
    "+ Rerun the code above for $\\theta = 0.8$."
   ]
  },
  {
   "cell_type": "markdown",
   "metadata": {},
   "source": [
    "## The Categorical Distribution\n",
    "\n",
    "This is a generalization of the Bernoulli also known as *multinulli*.\n",
    "It is the probability distribution assigned to a random variable taking $K$ different values each one with a given, but different, probability.\n",
    "It is:\n",
    "\n",
    "$$\n",
    "p(X=k) = p_k.\n",
    "$$\n",
    "\n",
    "For example, if all the different values are equally probably, then we could have:\n",
    "\n",
    "$$\n",
    "p(X=k) = \\frac{1}{K}.\n",
    "$$\n",
    "\n",
    "Let's see how we can sample from it."
   ]
  },
  {
   "cell_type": "code",
   "execution_count": 27,
   "metadata": {},
   "outputs": [],
   "source": [
    "# Define the probabilities:\n",
    "ps = [0.1, 0.1, 0.4, 0.2, 0.2] \n",
    "# And here are the corresponding values\n",
    "xs = np.array([1, 2, 3, 4, 5])\n",
    "# Here is how you can define a categorical rv:\n",
    "X = st.rv_discrete(name=\"Custom Categorical\", values=(xs, ps))"
   ]
  },
  {
   "cell_type": "markdown",
   "metadata": {},
   "source": [
    "Here is how to sample from it 10 times:"
   ]
  },
  {
   "cell_type": "code",
   "execution_count": 28,
   "metadata": {},
   "outputs": [
    {
     "name": "stdout",
     "output_type": "stream",
     "text": [
      "samples: [3 4 1 3 1 3 5 3 1 4]\n"
     ]
    }
   ],
   "source": [
    "x_samples = X.rvs(size=10)\n",
    "print(f\"samples: {x_samples}\")"
   ]
  },
  {
   "cell_type": "markdown",
   "metadata": {},
   "source": [
    "Evaluate the probability mass function at a point $X=2$:"
   ]
  },
  {
   "cell_type": "code",
   "execution_count": 29,
   "metadata": {},
   "outputs": [
    {
     "name": "stdout",
     "output_type": "stream",
     "text": [
      "p(X=2) = 0.10\n"
     ]
    }
   ],
   "source": [
    "print(f\"p(X=2) = {X.pmf(2):.2f}\")"
   ]
  },
  {
   "cell_type": "markdown",
   "metadata": {},
   "source": [
    "Here is the expectation:"
   ]
  },
  {
   "cell_type": "code",
   "execution_count": 30,
   "metadata": {},
   "outputs": [
    {
     "name": "stdout",
     "output_type": "stream",
     "text": [
      "E[X] = 3.30\n"
     ]
    }
   ],
   "source": [
    "print(f\"E[X] = {X.expect():.2f}\")"
   ]
  },
  {
   "cell_type": "markdown",
   "metadata": {},
   "source": [
    "And the variance:"
   ]
  },
  {
   "cell_type": "code",
   "execution_count": 31,
   "metadata": {},
   "outputs": [
    {
     "name": "stdout",
     "output_type": "stream",
     "text": [
      "V[X] = 1.41\n"
     ]
    }
   ],
   "source": [
    "print(f\"V[X] = {X.var():.2f}\")"
   ]
  },
  {
   "cell_type": "markdown",
   "metadata": {},
   "source": [
    "Let's plot the PMF:"
   ]
  },
  {
   "cell_type": "code",
   "execution_count": 32,
   "metadata": {},
   "outputs": [
    {
     "data": {
      "image/png": "[encoded data removed]",
      "text/plain": [
       "<Figure size 600x400 with 1 Axes>"
      ]
     },
     "metadata": {},
     "output_type": "display_data"
    }
   ],
   "source": [
    "fig, ax = plt.subplots()\n",
    "ax.bar(xs, X.pmf(xs))\n",
    "ax.set_xlabel(\"$x$\")\n",
    "ax.set_ylabel(\"$p(x)$\");"
   ]
  },
  {
   "cell_type": "markdown",
   "metadata": {},
   "source": [
    "Let's now compute the expectation of a function of $X$.\n",
    "Say, $Y = e^X$.\n",
    "The formula is:\n",
    "\n",
    "$$\n",
    "\\mathbb{E}[e^X] = \\sum_x e^x p(x).\n",
    "$$\n",
    "\n",
    "Here is how you can do this sumation mannually:"
   ]
  },
  {
   "cell_type": "code",
   "execution_count": 33,
   "metadata": {},
   "outputs": [
    {
     "name": "stdout",
     "output_type": "stream",
     "text": [
      "E[exp(X)] = 49.65\n"
     ]
    }
   ],
   "source": [
    "E_eX = np.sum(np.exp(xs) * X.pmf(xs))\n",
    "print(f\"E[exp(X)] = {E_eX:.2f}\")"
   ]
  },
  {
   "cell_type": "markdown",
   "metadata": {},
   "source": [
    "What if we wanted to find the variance of $Y = e^X$.\n",
    "We have to use this formula:\n",
    "\n",
    "$$\n",
    "\\mathbb{V}[e^X] = \\mathbb{E}\\left[\\left(e^{X}\\right)^2\\right] - \\left\\{\\mathbb{E}\\left[e^X\\right]\\right\\}^2.\n",
    "$$\n",
    "\n",
    "Let's do it:"
   ]
  },
  {
   "cell_type": "code",
   "execution_count": 34,
   "metadata": {},
   "outputs": [
    {
     "name": "stdout",
     "output_type": "stream",
     "text": [
      "V[exp(X)] = 2704.21\n"
     ]
    }
   ],
   "source": [
    "E_e2X = np.sum(np.exp(xs) ** 2 * X.pmf(xs))\n",
    "V_eX = E_e2X - E_eX ** 2\n",
    "print(f\"V[exp(X)] = {V_eX:.2f}\")"
   ]
  },
  {
   "cell_type": "markdown",
   "metadata": {},
   "source": [
    "### Questions\n",
    "\n",
    "+ Rerun all code segements above for the Categorical $X\\sim \\operatorname{Categorical}(0.1, 0.1, 0.4, 0.2, 0.2)$ taking values $1, 2, 3, 4$ and $5$.\n",
    "+ Write code that finds the expectation of $\\sin(X)$.\n",
    "+ Write code that finds the variance of $\\sin(X)$."
   ]
  },
  {
   "cell_type": "markdown",
   "metadata": {},
   "source": [
    "Finding the expectation of sin(X):"
   ]
  },
  {
   "cell_type": "code",
   "execution_count": 35,
   "metadata": {},
   "outputs": [
    {
     "name": "stdout",
     "output_type": "stream",
     "text": [
      "E[sin(X)] = -0.11\n"
     ]
    }
   ],
   "source": [
    "# Note: expectations and variances of functions of random variables may need\n",
    "# to be calculated manually as seen above, vs using the built-in methods of\n",
    "# .expect() and .var()\n",
    "E_sinX = np.sum(np.sin(xs)*X.pmf(xs))\n",
    "print(f\"E[sin(X)] = {E_sinX:.2f}\")"
   ]
  },
  {
   "cell_type": "markdown",
   "metadata": {},
   "source": [
    "Finding the variance of sin(X):"
   ]
  },
  {
   "cell_type": "code",
   "execution_count": 36,
   "metadata": {},
   "outputs": [
    {
     "name": "stdout",
     "output_type": "stream",
     "text": [
      "V[sin(X)] = 0.45\n"
     ]
    }
   ],
   "source": [
    "E_sinX2 = np.sum(np.sin(xs)**2 * X.pmf(xs))\n",
    "V_sinX = E_sinX2 - E_sinX**2\n",
    "print(f\"V[sin(X)] = {V_sinX:.2f}\")"
   ]
  },
  {
   "cell_type": "markdown",
   "metadata": {},
   "source": [
    "## The Binomial Distribution\n",
    "\n",
    "Suppose that you tossing $n$ times a coin with probability of heads $\\theta$ and let $X$ be the number of heads.\n",
    "The random variable $X$ is called the binomial random variable.\n",
    "We write:\n",
    "\n",
    "$$\n",
    "X\\sim B(n, \\theta).\n",
    "$$\n",
    "\n",
    "It is easy to show that its pmf is:\n",
    "\n",
    "$$\n",
    "p(X = k) = {n\\choose{k}}\\theta^k(1-\\theta)^{n-k},\n",
    "$$\n",
    "\n",
    "where ${n\\choose{k}}$ is the number of $k$ combinations out of $n$ elements:\n",
    "\n",
    "$$\n",
    "{n\\choose{k}} = \\frac{n!}{k!(n-k)!}.\n",
    "$$\n",
    "\n",
    "Here is how to define the binomial in scipy.stats:"
   ]
  },
  {
   "cell_type": "code",
   "execution_count": 52,
   "metadata": {},
   "outputs": [],
   "source": [
    "n = 100      \n",
    "theta = 0.6\n",
    "X = st.binom(n, theta)"
   ]
  },
  {
   "cell_type": "markdown",
   "metadata": {},
   "source": [
    "Here are some samples:"
   ]
  },
  {
   "cell_type": "code",
   "execution_count": 38,
   "metadata": {},
   "outputs": [
    {
     "name": "stdout",
     "output_type": "stream",
     "text": [
      "[15 13 13 12 14 11 10  8 12 12 17 10 14 14 12 13  6 15 10 12 14 13 12 12\n",
      " 18 14 16 16 14 11 13 12 10 10 11  8 13 11 13 11 13 12 12 11 10 14 14  7\n",
      " 14 12 10 13 12 12 10  9  9 13 14 11 13 11 14  9 13 11 11 10 14  9 15 15\n",
      " 16 12 13 14 15 11 12 15 13 12 10 12 12 12 12 10 14 14 13 11 12 13 15  9\n",
      "  9 12 12 12]\n"
     ]
    }
   ],
   "source": [
    "print(X.rvs(100))"
   ]
  },
  {
   "cell_type": "markdown",
   "metadata": {},
   "source": [
    "Here is the expectation:"
   ]
  },
  {
   "cell_type": "code",
   "execution_count": 20,
   "metadata": {},
   "outputs": [
    {
     "name": "stdout",
     "output_type": "stream",
     "text": [
      "E[X] = 3.00\n"
     ]
    }
   ],
   "source": [
    "print(f\"E[X] = {X.expect():.2f}\")"
   ]
  },
  {
   "cell_type": "markdown",
   "metadata": {},
   "source": [
    "And the variance:"
   ]
  },
  {
   "cell_type": "code",
   "execution_count": 21,
   "metadata": {},
   "outputs": [
    {
     "name": "stdout",
     "output_type": "stream",
     "text": [
      "V[X] = 1.20\n"
     ]
    }
   ],
   "source": [
    "print(f\"V[X] = {X.var():1.2f}\")"
   ]
  },
  {
   "cell_type": "markdown",
   "metadata": {},
   "source": [
    "Let's draw the PMF:"
   ]
  },
  {
   "cell_type": "code",
   "execution_count": 53,
   "metadata": {},
   "outputs": [
    {
     "data": {
      "image/png": "[encoded data removed]",
      "text/plain": [
       "<Figure size 600x400 with 1 Axes>"
      ]
     },
     "metadata": {},
     "output_type": "display_data"
    }
   ],
   "source": [
    "fig, ax = plt.subplots()\n",
    "xs = range(n)\n",
    "ax.bar(xs, X.pmf(xs))\n",
    "ax.set_xlabel(\"$x$\")\n",
    "ax.set_ylabel(\"$p(x)$\");"
   ]
  },
  {
   "cell_type": "markdown",
   "metadata": {},
   "source": [
    "### Questions\n",
    "\n",
    "+ Start increasing the number of trials $n$. Gradually take it up to $n=100$. How does the resulting pmf look like?\n",
    "This starts to look like a bell curve. And indeed it is!"
   ]
  },
  {
   "cell_type": "markdown",
   "metadata": {},
   "source": [
    "## The Poisson Distribution\n",
    "\n",
    "The Poisson distribution models the number of times an event occurs in an interval of space or time.\n",
    "For example, a Poisson random variable $X$ may be:\n",
    "\n",
    "+ The number earthquakes greater than 6 Richter occuring over the next 100 years.\n",
    "+ The number of major floods over the next 100 years.\n",
    "+ The number of patients arriving at the emergency room during the night shift.\n",
    "+ The number of electrons hitting a detector in a specific time interval.\n",
    "\n",
    "The Poisson is a good model when the following assumptions are true:\n",
    "+ The number of times an event occurs in an interval takes values $0,1,2,\\dots$.\n",
    "+ Events occur independently.\n",
    "+ The probability that an event occurs is constant per unit of time.\n",
    "+ The average rate at which events occur is constant.\n",
    "+ Events cannot occur at the same time.\n",
    "\n",
    "When these assumptions are valid, we can write:\n",
    "\n",
    "$$\n",
    "X\\sim \\operatorname{Pois}(\\lambda),\n",
    "$$\n",
    "\n",
    "where $\\lambda>0$ is the rate with each the events occur.\n",
    "The pmf of the Poisson is:\n",
    "\n",
    "$$\n",
    "p(X=k) = \\frac{\\lambda^ke^{-\\lambda}}{k!}.\n",
    "$$\n",
    "\n",
    "The expectation of the Poisson is:\n",
    "\n",
    "$$\n",
    "\\mathbb{E}[X] = \\sum_{k=0}^\\infty k p(X=k) = \\lambda.\n",
    "$$\n",
    "\n",
    "The variance is:\n",
    "\n",
    "$$\n",
    "\\mathbb{V}[X] = \\dots = \\lambda.\n",
    "$$\n",
    "\n",
    "Let's look at a specific example.\n",
    "Historical data show that at a given region a major earthquake occurs once every 100 years on average.\n",
    "What is the probability that $k$ such earthquakes will occur within the next 100 years.\n",
    "Let $X$ be the random variable corresponding to the number of earthquakes over the next 100 years.\n",
    "Assuming the Poisson model is valid, the rate parameter is $\\lambda = 1$ and we have:\n",
    "\n",
    "$$\n",
    "X\\sim \\operatorname{Pois}(1).\n",
    "$$\n",
    "\n",
    "The probabilities are:"
   ]
  },
  {
   "cell_type": "code",
   "execution_count": 55,
   "metadata": {},
   "outputs": [
    {
     "data": {
      "image/png": "[encoded data removed]",
      "text/plain": [
       "<Figure size 600x400 with 1 Axes>"
      ]
     },
     "metadata": {},
     "output_type": "display_data"
    }
   ],
   "source": [
    "lam = 2.0\n",
    "X = st.poisson(lam)\n",
    "ks = range(6)\n",
    "fig, ax = plt.subplots()\n",
    "ax.bar(ks, X.pmf(ks))\n",
    "ax.set_xlabel('Number of major earthquakes in next 100 years')\n",
    "ax.set_ylabel('Probability of occurance');"
   ]
  },
  {
   "cell_type": "markdown",
   "metadata": {},
   "source": [
    "### Questions\n",
    "\n",
    "+ How would the rate parameter $\\lambda$ change if the rate with each major earthquakes occured in the past was 2 every 100 years? Plot the pmf of the new Poisson random variable. You may have to add more points in the x-axis. --> The rate parameter $\\lambda$ would increase from 1 to 2, and the pmf's center of mass would be shifted to the right"
   ]
  }
 ],
 "metadata": {
  "celltoolbar": "Tags",
  "kernelspec": {
   "display_name": "Python 3 (ipykernel)",
   "language": "python",
   "name": "python3"
  },
  "language_info": {
   "codemirror_mode": {
    "name": "ipython",
    "version": 3
   },
   "file_extension": ".py",
   "mimetype": "text/x-python",
   "name": "python",
   "nbconvert_exporter": "python",
   "pygments_lexer": "ipython3",
   "version": "3.9.12"
  }
 },
 "nbformat": 4,
 "nbformat_minor": 4
}
